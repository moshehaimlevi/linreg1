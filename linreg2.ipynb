{
  "nbformat": 4,
  "nbformat_minor": 0,
  "metadata": {
    "colab": {
      "provenance": [],
      "authorship_tag": "ABX9TyMNBGgIn1gsfaOdWltVp0YR",
      "include_colab_link": true
    },
    "kernelspec": {
      "name": "python3",
      "display_name": "Python 3"
    },
    "language_info": {
      "name": "python"
    }
  },
  "cells": [
    {
      "cell_type": "markdown",
      "metadata": {
        "id": "view-in-github",
        "colab_type": "text"
      },
      "source": [
        "<a href=\"https://colab.research.google.com/github/moshehaimlevi/linreg1/blob/main/linreg2.ipynb\" target=\"_parent\"><img src=\"https://colab.research.google.com/assets/colab-badge.svg\" alt=\"Open In Colab\"/></a>"
      ]
    },
    {
      "cell_type": "code",
      "execution_count": 23,
      "metadata": {
        "id": "Mhy_nJU1JPJ4"
      },
      "outputs": [],
      "source": [
        "import numpy as np\n",
        "import matplotlib.pyplot as plt\n",
        "import pandas as pd\n",
        "from sklearn.metrics import mean_squared_error, r2_score\n",
        "import seaborn as sns\n",
        "from sklearn.model_selection import train_test_split\n",
        "from sklearn.linear_model import LinearRegression"
      ]
    },
    {
      "cell_type": "code",
      "source": [
        "x = np.array([\n",
        "    [2, 15, 40, 0],\n",
        "    [5, 16, 45, 1],\n",
        "    [3, 16, 40, 0],\n",
        "    [10, 18, 50, 5],\n",
        "    [7, 17, 45, 3],\n",
        "    [1, 14, 35, 0],\n",
        "    [8, 16, 45, 4],\n",
        "    [4, 15, 40, 1],\n",
        "    [6, 15, 42, 2],\n",
        "    [12, 19, 55, 8]\n",
        "])\n",
        "y = np.array([15000, 25000, 18000, 45000, 35000, 12000, 38000, 22000, 30000, 60000])\n",
        "\n",
        "df = pd.DataFrame(x, columns=[\"exp_years\", \"education\", \"week_h\", \"exp_manage\"])\n",
        "df[\"monthly_sal\"] = y\n",
        "\n",
        "x_train, x_test, y_train, y_test = train_test_split(x, y, test_size=0.2, random_state=20)\n",
        "\n",
        "# model training\n",
        "model = LinearRegression()\n",
        "model.fit(x_train, y_train)\n",
        "\n",
        "print(f\"Intercept (β₀): {model.intercept_:.2f}\")\n",
        "print(f\"Coefficients(β₁, β₂, β₃, β₄): {model.coef_}\")\n",
        "\n",
        "# Predictions\n",
        "y_pred_train = model.predict(x_train)\n",
        "y_pred_test = model.predict(x_test)\n",
        "\n",
        "train_mse = mean_squared_error(y_train, y_pred_train)\n",
        "test_mse = mean_squared_error(y_test, y_pred_test)\n",
        "train_r2 = r2_score(y_train, y_pred_train)\n",
        "test_r2 = r2_score(y_test, y_pred_test)\n",
        "\n",
        "print(f\"\\nTraining MSE: {train_mse:.2f}\")\n",
        "print(f\"Testing MSE: {test_mse:.2f}\")\n",
        "print(f\"Training R²: {train_r2:.2f}\")\n",
        "print(f\"Testing R²: {test_r2:.2f}\")\n",
        "\n",
        "salary_predict = np.array([[6, 16, 43, 2]])\n",
        "predicted_price = model.predict(salary_predict)[0]\n",
        "print(f\"\\nPredicted monthly payment: {predicted_price:.2f} \")\n",
        "\n",
        "\n"
      ],
      "metadata": {
        "colab": {
          "base_uri": "https://localhost:8080/"
        },
        "id": "9FriBKqqJXki",
        "outputId": "b87bbac5-5540-4257-b589-76334e70a4d7"
      },
      "execution_count": 30,
      "outputs": [
        {
          "output_type": "stream",
          "name": "stdout",
          "text": [
            "Intercept (β₀): 1167.89\n",
            "Coefficients(β₁, β₂, β₃, β₄): [1966.63275687   73.07561885  232.79077653 2538.62326212]\n",
            "\n",
            "Training MSE: 685545.95\n",
            "Testing MSE: 17198.65\n",
            "Training R²: 1.00\n",
            "Testing R²: 0.99\n",
            "\n",
            "Predicted monthly payment: 29224.14 \n"
          ]
        }
      ]
    }
  ]
}